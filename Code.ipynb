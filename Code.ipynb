{
  "nbformat": 4,
  "nbformat_minor": 0,
  "metadata": {
    "colab": {
      "name": "Google-search-scrape.ipynb",
      "provenance": []
    },
    "kernelspec": {
      "name": "python3",
      "display_name": "Python 3"
    }
  },
  "cells": [
    {
      "cell_type": "markdown",
      "metadata": {
        "id": "92bEzioodvTj",
        "colab_type": "text"
      },
      "source": [
        "# Google-search-scrape\n",
        "Script to check if company website contains keyword on the first 10 google search results"
      ]
    },
    {
      "cell_type": "markdown",
      "metadata": {
        "id": "ReUTZt7pfMiu",
        "colab_type": "text"
      },
      "source": [
        "Set environments"
      ]
    },
    {
      "cell_type": "code",
      "metadata": {
        "id": "H7ojcHolPvFQ",
        "colab_type": "code",
        "colab": {}
      },
      "source": [
        "# pip install beautifulsoup4\n",
        "# from bs4 import BeautifulSoup\n",
        "\n",
        "pip install requests\n",
        "import requests\n",
        "\n",
        "from googlesearch import search\n",
        "\n",
        "import pandas as pd\n",
        "\n",
        "import json"
      ],
      "execution_count": 0,
      "outputs": []
    },
    {
      "cell_type": "markdown",
      "metadata": {
        "id": "M6v33nwySId1",
        "colab_type": "text"
      },
      "source": [
        "# Import dataframe"
      ]
    },
    {
      "cell_type": "code",
      "metadata": {
        "id": "YQrq9wtPQBXH",
        "colab_type": "code",
        "colab": {}
      },
      "source": [
        "file_path = \"\"\n",
        "sheet_name = \"\"\n",
        "df_company2_website = pd.read_excel(file_path , sheet_name, header=None, skiprows=0, names=['company_name','twitter_handle'], usecols=\"A,B\")\n",
        "df_company2_website.head()"
      ],
      "execution_count": 0,
      "outputs": []
    },
    {
      "cell_type": "code",
      "metadata": {
        "id": "ZL6ao6t9QDvA",
        "colab_type": "code",
        "colab": {}
      },
      "source": [
        "list_companies = list(df_company2_website['company_name'])"
      ],
      "execution_count": 0,
      "outputs": []
    },
    {
      "cell_type": "code",
      "metadata": {
        "id": "diYZpxNCQ-cr",
        "colab_type": "code",
        "colab": {}
      },
      "source": [
        "list_companies = [\"google\", \"facebook\"] # toy-data"
      ],
      "execution_count": 0,
      "outputs": []
    },
    {
      "cell_type": "markdown",
      "metadata": {
        "id": "wrOkuaXiSFEE",
        "colab_type": "text"
      },
      "source": [
        "# Create result_dict with loop over google search"
      ]
    },
    {
      "cell_type": "code",
      "metadata": {
        "id": "N1KeJ92gPtKd",
        "colab_type": "code",
        "colab": {}
      },
      "source": [
        "result_dict = {}\n",
        "\n",
        "for company in list_companies:\n",
        "\n",
        "  query = company + \" \" + '\"seiz*\"' + \" \" + '\"out of business\"' + \" \" + '\"deadpool*\"' + \" \" + '\"bancrupt*\"'\n",
        "  print(query)\n",
        "\n",
        "  search_result_website_url_list = []\n",
        "  for match_url in search(query, tld=\"co.in\", num=10, stop=10, pause=2): \n",
        "      # print(match_url)\n",
        "      search_result_website_url_list.append(match_url)\n",
        "\n",
        "  result_dict[company] = search_result_website_url_list\n",
        "\n",
        "print(result_dict)"
      ],
      "execution_count": 0,
      "outputs": []
    },
    {
      "cell_type": "code",
      "metadata": {
        "id": "L6LBj9RUZh_9",
        "colab_type": "code",
        "colab": {}
      },
      "source": [
        "result_dict = {}\n",
        "\n",
        "for company in list_companies:\n",
        "\n",
        "  check_query = ['\"seiz*\"','\"out of business\"','\"deadpool*\"',\" \" + '\"bancrupt*\"']\n",
        "  print(check_query)\n",
        "  # search_query = ['lang', 'images']\n",
        "\n",
        "  search_query = company + \" \" + \" \".join(check_query)\n",
        "  # check_query = query.split()"
      ],
      "execution_count": 0,
      "outputs": []
    },
    {
      "cell_type": "code",
      "metadata": {
        "id": "tFQHhYhsUcU6",
        "colab_type": "code",
        "colab": {}
      },
      "source": [
        "result_dict = {}\n",
        "\n",
        "for company in list_companies:\n",
        "\n",
        "  check_query = ['\"seiz*\"','\"out of business\"','\"deadpool*\"',\" \" + '\"bancrupt*\"']\n",
        "  print(check_query)\n",
        "\n",
        "  search_query = company + \" \" + \" \".join(check_query)\n",
        "  \n",
        "  for match_url in search(query, tld=\"co.in\", num=10, stop=1, pause=2): \n",
        "      r = requests.get(url)\n",
        "      content = r.text\n",
        "      print(content)\n",
        "      for word in check_query:\n",
        "          print(\"word check\", word)\n",
        "          if word in content:\n",
        "            found = 'The word: \"' + word + '\" was found'\n",
        "            # print(\"true\")\n",
        "            result_dict[company] = (search_result_website_url_list,found)\n",
        "          else:\n",
        "            print(\"word not in content\")\n",
        "            result_dict[company] = \"none of the search_queries were found\"\n",
        "          \n",
        "print(result_dict)"
      ],
      "execution_count": 0,
      "outputs": []
    },
    {
      "cell_type": "markdown",
      "metadata": {
        "id": "AcXoSJBFSDEp",
        "colab_type": "text"
      },
      "source": [
        "# Save result_dict"
      ]
    },
    {
      "cell_type": "code",
      "metadata": {
        "id": "E9fQHJ5RP3sh",
        "colab_type": "code",
        "colab": {}
      },
      "source": [
        "save_file_path = \"\"\n",
        "\n",
        "json = json.dumps(result_dict)\n",
        "f = open(save_file_path + \"result_dict.json\",\"w\")\n",
        "f.write(json)\n",
        "f.close()"
      ],
      "execution_count": 0,
      "outputs": []
    }
  ]
}
